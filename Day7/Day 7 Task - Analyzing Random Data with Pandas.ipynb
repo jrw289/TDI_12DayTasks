{
 "cells": [
  {
   "cell_type": "markdown",
   "metadata": {},
   "source": [
    "**Project Milestone:** Manipulate some randomly generated data in a pandas dataframe. Make sure you know how to select a specific column, how to set the dataframe index (and, in particular, how to make it a datetime index), and how to select ranges of rows by index."
   ]
  },
  {
   "cell_type": "code",
   "execution_count": 2,
   "metadata": {
    "collapsed": true
   },
   "outputs": [],
   "source": [
    "import pandas as pd\n",
    "import numpy as np"
   ]
  },
  {
   "cell_type": "code",
   "execution_count": 18,
   "metadata": {},
   "outputs": [
    {
     "data": {
      "text/html": [
       "<div>\n",
       "<style>\n",
       "    .dataframe thead tr:only-child th {\n",
       "        text-align: right;\n",
       "    }\n",
       "\n",
       "    .dataframe thead th {\n",
       "        text-align: left;\n",
       "    }\n",
       "\n",
       "    .dataframe tbody tr th {\n",
       "        vertical-align: top;\n",
       "    }\n",
       "</style>\n",
       "<table border=\"1\" class=\"dataframe\">\n",
       "  <thead>\n",
       "    <tr style=\"text-align: right;\">\n",
       "      <th></th>\n",
       "      <th>A</th>\n",
       "      <th>B</th>\n",
       "      <th>C</th>\n",
       "      <th>D</th>\n",
       "      <th>E</th>\n",
       "    </tr>\n",
       "  </thead>\n",
       "  <tbody>\n",
       "    <tr>\n",
       "      <th>2</th>\n",
       "      <td>0.262145</td>\n",
       "      <td>0.884441</td>\n",
       "      <td>0.125312</td>\n",
       "      <td>0.598280</td>\n",
       "      <td>0.042681</td>\n",
       "    </tr>\n",
       "    <tr>\n",
       "      <th>3</th>\n",
       "      <td>0.958982</td>\n",
       "      <td>0.223490</td>\n",
       "      <td>0.385587</td>\n",
       "      <td>0.247189</td>\n",
       "      <td>0.483193</td>\n",
       "    </tr>\n",
       "  </tbody>\n",
       "</table>\n",
       "</div>"
      ],
      "text/plain": [
       "          A         B         C         D         E\n",
       "2  0.262145  0.884441  0.125312  0.598280  0.042681\n",
       "3  0.958982  0.223490  0.385587  0.247189  0.483193"
      ]
     },
     "execution_count": 18,
     "metadata": {},
     "output_type": "execute_result"
    }
   ],
   "source": [
    "t = np.random.random((5,5))\n",
    "d = pd.DataFrame(t)\n",
    "\n",
    "d.columns = ['A','B','C','D','E']\n",
    "d[2:4] #by index values "
   ]
  },
  {
   "cell_type": "code",
   "execution_count": 20,
   "metadata": {},
   "outputs": [
    {
     "data": {
      "text/plain": [
       "0    0.116819\n",
       "1    0.202646\n",
       "2    0.125312\n",
       "3    0.385587\n",
       "4    0.096652\n",
       "Name: C, dtype: float64"
      ]
     },
     "execution_count": 20,
     "metadata": {},
     "output_type": "execute_result"
    }
   ],
   "source": [
    "d['C'] #by column name"
   ]
  },
  {
   "cell_type": "code",
   "execution_count": 29,
   "metadata": {},
   "outputs": [
    {
     "data": {
      "text/plain": [
       "[Timestamp('2017-03-22 15:16:45.433502912'),\n",
       " Timestamp('2017-03-22 15:28:25.433502912'),\n",
       " Timestamp('2017-03-22 15:40:05.433502912'),\n",
       " Timestamp('2017-03-22 15:51:45.433502912'),\n",
       " Timestamp('2017-03-22 16:03:25.433502912')]"
      ]
     },
     "execution_count": 29,
     "metadata": {},
     "output_type": "execute_result"
    }
   ],
   "source": [
    "ts_gen = pd.to_datetime(1490195805433502912, unit='ns') #generate some timestamp data\n",
    "inds = [ts_gen]\n",
    "for j in range(4):\n",
    "    ts_gen = ts_gen + pd.to_timedelta(700000000000,unit='ns')\n",
    "    inds.append(ts_gen)\n",
    "\n",
    "inds"
   ]
  },
  {
   "cell_type": "code",
   "execution_count": 33,
   "metadata": {},
   "outputs": [
    {
     "data": {
      "text/plain": [
       "DatetimeIndex(['2017-03-22 15:16:45.433502912',\n",
       "               '2017-03-22 15:28:25.433502912',\n",
       "               '2017-03-22 15:40:05.433502912',\n",
       "               '2017-03-22 15:51:45.433502912',\n",
       "               '2017-03-22 16:03:25.433502912'],\n",
       "              dtype='datetime64[ns]', freq=None)"
      ]
     },
     "execution_count": 33,
     "metadata": {},
     "output_type": "execute_result"
    }
   ],
   "source": [
    "iii = pd.DatetimeIndex(inds)\n",
    "iii"
   ]
  },
  {
   "cell_type": "code",
   "execution_count": 35,
   "metadata": {},
   "outputs": [
    {
     "data": {
      "text/html": [
       "<div>\n",
       "<style>\n",
       "    .dataframe thead tr:only-child th {\n",
       "        text-align: right;\n",
       "    }\n",
       "\n",
       "    .dataframe thead th {\n",
       "        text-align: left;\n",
       "    }\n",
       "\n",
       "    .dataframe tbody tr th {\n",
       "        vertical-align: top;\n",
       "    }\n",
       "</style>\n",
       "<table border=\"1\" class=\"dataframe\">\n",
       "  <thead>\n",
       "    <tr style=\"text-align: right;\">\n",
       "      <th></th>\n",
       "      <th>A</th>\n",
       "      <th>B</th>\n",
       "      <th>C</th>\n",
       "      <th>D</th>\n",
       "      <th>E</th>\n",
       "    </tr>\n",
       "  </thead>\n",
       "  <tbody>\n",
       "    <tr>\n",
       "      <th>2017-03-22 15:16:45.433502912</th>\n",
       "      <td>0.362358</td>\n",
       "      <td>0.420365</td>\n",
       "      <td>0.116819</td>\n",
       "      <td>0.788213</td>\n",
       "      <td>0.009947</td>\n",
       "    </tr>\n",
       "    <tr>\n",
       "      <th>2017-03-22 15:28:25.433502912</th>\n",
       "      <td>0.472294</td>\n",
       "      <td>0.651815</td>\n",
       "      <td>0.202646</td>\n",
       "      <td>0.793618</td>\n",
       "      <td>0.799170</td>\n",
       "    </tr>\n",
       "    <tr>\n",
       "      <th>2017-03-22 15:40:05.433502912</th>\n",
       "      <td>0.262145</td>\n",
       "      <td>0.884441</td>\n",
       "      <td>0.125312</td>\n",
       "      <td>0.598280</td>\n",
       "      <td>0.042681</td>\n",
       "    </tr>\n",
       "    <tr>\n",
       "      <th>2017-03-22 15:51:45.433502912</th>\n",
       "      <td>0.958982</td>\n",
       "      <td>0.223490</td>\n",
       "      <td>0.385587</td>\n",
       "      <td>0.247189</td>\n",
       "      <td>0.483193</td>\n",
       "    </tr>\n",
       "    <tr>\n",
       "      <th>2017-03-22 16:03:25.433502912</th>\n",
       "      <td>0.316729</td>\n",
       "      <td>0.936272</td>\n",
       "      <td>0.096652</td>\n",
       "      <td>0.829429</td>\n",
       "      <td>0.531239</td>\n",
       "    </tr>\n",
       "  </tbody>\n",
       "</table>\n",
       "</div>"
      ],
      "text/plain": [
       "                                      A         B         C         D  \\\n",
       "2017-03-22 15:16:45.433502912  0.362358  0.420365  0.116819  0.788213   \n",
       "2017-03-22 15:28:25.433502912  0.472294  0.651815  0.202646  0.793618   \n",
       "2017-03-22 15:40:05.433502912  0.262145  0.884441  0.125312  0.598280   \n",
       "2017-03-22 15:51:45.433502912  0.958982  0.223490  0.385587  0.247189   \n",
       "2017-03-22 16:03:25.433502912  0.316729  0.936272  0.096652  0.829429   \n",
       "\n",
       "                                      E  \n",
       "2017-03-22 15:16:45.433502912  0.009947  \n",
       "2017-03-22 15:28:25.433502912  0.799170  \n",
       "2017-03-22 15:40:05.433502912  0.042681  \n",
       "2017-03-22 15:51:45.433502912  0.483193  \n",
       "2017-03-22 16:03:25.433502912  0.531239  "
      ]
     },
     "execution_count": 35,
     "metadata": {},
     "output_type": "execute_result"
    }
   ],
   "source": [
    "d.index = iii\n",
    "d"
   ]
  },
  {
   "cell_type": "code",
   "execution_count": 39,
   "metadata": {},
   "outputs": [
    {
     "data": {
      "text/html": [
       "<div>\n",
       "<style>\n",
       "    .dataframe thead tr:only-child th {\n",
       "        text-align: right;\n",
       "    }\n",
       "\n",
       "    .dataframe thead th {\n",
       "        text-align: left;\n",
       "    }\n",
       "\n",
       "    .dataframe tbody tr th {\n",
       "        vertical-align: top;\n",
       "    }\n",
       "</style>\n",
       "<table border=\"1\" class=\"dataframe\">\n",
       "  <thead>\n",
       "    <tr style=\"text-align: right;\">\n",
       "      <th></th>\n",
       "      <th>A</th>\n",
       "      <th>B</th>\n",
       "      <th>C</th>\n",
       "      <th>D</th>\n",
       "      <th>E</th>\n",
       "    </tr>\n",
       "  </thead>\n",
       "  <tbody>\n",
       "    <tr>\n",
       "      <th>2017-03-22 15:51:45.433502912</th>\n",
       "      <td>0.958982</td>\n",
       "      <td>0.223490</td>\n",
       "      <td>0.385587</td>\n",
       "      <td>0.247189</td>\n",
       "      <td>0.483193</td>\n",
       "    </tr>\n",
       "    <tr>\n",
       "      <th>2017-03-22 16:03:25.433502912</th>\n",
       "      <td>0.316729</td>\n",
       "      <td>0.936272</td>\n",
       "      <td>0.096652</td>\n",
       "      <td>0.829429</td>\n",
       "      <td>0.531239</td>\n",
       "    </tr>\n",
       "  </tbody>\n",
       "</table>\n",
       "</div>"
      ],
      "text/plain": [
       "                                      A         B         C         D  \\\n",
       "2017-03-22 15:51:45.433502912  0.958982  0.223490  0.385587  0.247189   \n",
       "2017-03-22 16:03:25.433502912  0.316729  0.936272  0.096652  0.829429   \n",
       "\n",
       "                                      E  \n",
       "2017-03-22 15:51:45.433502912  0.483193  \n",
       "2017-03-22 16:03:25.433502912  0.531239  "
      ]
     },
     "execution_count": 39,
     "metadata": {},
     "output_type": "execute_result"
    }
   ],
   "source": [
    "d[d.index>pd.to_datetime(1490197805433502912, unit='ns')] #Using the index to filter for timestamps"
   ]
  },
  {
   "cell_type": "code",
   "execution_count": null,
   "metadata": {
    "collapsed": true
   },
   "outputs": [],
   "source": []
  }
 ],
 "metadata": {
  "kernelspec": {
   "display_name": "Python 3",
   "language": "python",
   "name": "python3"
  },
  "language_info": {
   "codemirror_mode": {
    "name": "ipython",
    "version": 3
   },
   "file_extension": ".py",
   "mimetype": "text/x-python",
   "name": "python",
   "nbconvert_exporter": "python",
   "pygments_lexer": "ipython3",
   "version": "3.6.2"
  }
 },
 "nbformat": 4,
 "nbformat_minor": 2
}
