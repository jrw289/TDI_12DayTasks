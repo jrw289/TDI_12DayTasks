{
 "cells": [
  {
   "cell_type": "code",
   "execution_count": 14,
   "metadata": {
    "collapsed": true
   },
   "outputs": [],
   "source": [
    "from bokeh.io import show, output_file\n",
    "from bokeh.models import ColumnDataSource\n",
    "from bokeh.models.ranges import FactorRange\n",
    "from bokeh.plotting import figure\n",
    "import pandas as pd\n",
    "from math import pi"
   ]
  },
  {
   "cell_type": "code",
   "execution_count": 15,
   "metadata": {
    "collapsed": true
   },
   "outputs": [],
   "source": [
    "data = pd.read_csv('LinkedIn_Boot_Camp_Profiles.csv')"
   ]
  },
  {
   "cell_type": "code",
   "execution_count": 16,
   "metadata": {},
   "outputs": [
    {
     "data": {
      "text/html": [
       "<div>\n",
       "<style>\n",
       "    .dataframe thead tr:only-child th {\n",
       "        text-align: right;\n",
       "    }\n",
       "\n",
       "    .dataframe thead th {\n",
       "        text-align: left;\n",
       "    }\n",
       "\n",
       "    .dataframe tbody tr th {\n",
       "        vertical-align: top;\n",
       "    }\n",
       "</style>\n",
       "<table border=\"1\" class=\"dataframe\">\n",
       "  <thead>\n",
       "    <tr style=\"text-align: right;\">\n",
       "      <th></th>\n",
       "      <th>boot_camp</th>\n",
       "      <th>LI_profiles</th>\n",
       "      <th>work_there</th>\n",
       "      <th>ratio</th>\n",
       "    </tr>\n",
       "  </thead>\n",
       "  <tbody>\n",
       "    <tr>\n",
       "      <th>0</th>\n",
       "      <td>General Assembly</td>\n",
       "      <td>20543</td>\n",
       "      <td>8</td>\n",
       "      <td>0.00039</td>\n",
       "    </tr>\n",
       "    <tr>\n",
       "      <th>1</th>\n",
       "      <td>Flatiron School</td>\n",
       "      <td>1498</td>\n",
       "      <td>108</td>\n",
       "      <td>0.07210</td>\n",
       "    </tr>\n",
       "    <tr>\n",
       "      <th>2</th>\n",
       "      <td>Springboard</td>\n",
       "      <td>1003</td>\n",
       "      <td>46</td>\n",
       "      <td>0.04586</td>\n",
       "    </tr>\n",
       "    <tr>\n",
       "      <th>3</th>\n",
       "      <td>Thinkful</td>\n",
       "      <td>915</td>\n",
       "      <td>93</td>\n",
       "      <td>0.10164</td>\n",
       "    </tr>\n",
       "    <tr>\n",
       "      <th>4</th>\n",
       "      <td>Galvanize</td>\n",
       "      <td>800</td>\n",
       "      <td>91</td>\n",
       "      <td>0.11375</td>\n",
       "    </tr>\n",
       "    <tr>\n",
       "      <th>5</th>\n",
       "      <td>NYC Data Science Academy</td>\n",
       "      <td>408</td>\n",
       "      <td>28</td>\n",
       "      <td>0.06863</td>\n",
       "    </tr>\n",
       "    <tr>\n",
       "      <th>6</th>\n",
       "      <td>The Data Incubator</td>\n",
       "      <td>396</td>\n",
       "      <td>9</td>\n",
       "      <td>0.02273</td>\n",
       "    </tr>\n",
       "    <tr>\n",
       "      <th>7</th>\n",
       "      <td>Dataquest.io</td>\n",
       "      <td>299</td>\n",
       "      <td>6</td>\n",
       "      <td>0.02007</td>\n",
       "    </tr>\n",
       "    <tr>\n",
       "      <th>8</th>\n",
       "      <td>Metis</td>\n",
       "      <td>116</td>\n",
       "      <td>8</td>\n",
       "      <td>0.06897</td>\n",
       "    </tr>\n",
       "    <tr>\n",
       "      <th>9</th>\n",
       "      <td>RMOTR</td>\n",
       "      <td>52</td>\n",
       "      <td>3</td>\n",
       "      <td>0.05769</td>\n",
       "    </tr>\n",
       "  </tbody>\n",
       "</table>\n",
       "</div>"
      ],
      "text/plain": [
       "                  boot_camp  LI_profiles  work_there    ratio\n",
       "0          General Assembly        20543           8  0.00039\n",
       "1           Flatiron School         1498         108  0.07210\n",
       "2               Springboard         1003          46  0.04586\n",
       "3                  Thinkful          915          93  0.10164\n",
       "4                 Galvanize          800          91  0.11375\n",
       "5  NYC Data Science Academy          408          28  0.06863\n",
       "6        The Data Incubator          396           9  0.02273\n",
       "7              Dataquest.io          299           6  0.02007\n",
       "8                     Metis          116           8  0.06897\n",
       "9                     RMOTR           52           3  0.05769"
      ]
     },
     "execution_count": 16,
     "metadata": {},
     "output_type": "execute_result"
    }
   ],
   "source": [
    "data\n"
   ]
  },
  {
   "cell_type": "code",
   "execution_count": 17,
   "metadata": {},
   "outputs": [],
   "source": [
    "data = pd.read_csv('LinkedIn_Boot_Camp_Profiles.csv')\n",
    "\n",
    "output_file('dsbc_bar.html')\n",
    "\n",
    "source = ColumnDataSource(data=data)\n",
    "\n",
    "p = figure(x_range=list(data['boot_camp'].values),y_range=(0,15),\n",
    "           x_axis_label='Boot Camp',\n",
    "           y_axis_label='% of Alumni Hired by Boot Camp',\n",
    "           title='Data Science Boot Camp LinkedIn Alumni Self-Hire Ratios',\n",
    "           title_location = 'above')"
   ]
  },
  {
   "cell_type": "code",
   "execution_count": 18,
   "metadata": {
    "collapsed": true
   },
   "outputs": [],
   "source": [
    "p.vbar(x=data['boot_camp'].values,top=list(data['ratio'].values*100.0),width=0.2)\n",
    "\n",
    "p.xaxis.major_label_orientation = pi/4\n",
    "\n",
    "show(p)"
   ]
  },
  {
   "cell_type": "code",
   "execution_count": null,
   "metadata": {
    "collapsed": true
   },
   "outputs": [],
   "source": []
  }
 ],
 "metadata": {
  "kernelspec": {
   "display_name": "Python 3",
   "language": "python",
   "name": "python3"
  },
  "language_info": {
   "codemirror_mode": {
    "name": "ipython",
    "version": 3
   },
   "file_extension": ".py",
   "mimetype": "text/x-python",
   "name": "python",
   "nbconvert_exporter": "python",
   "pygments_lexer": "ipython3",
   "version": "3.6.2"
  }
 },
 "nbformat": 4,
 "nbformat_minor": 2
}
